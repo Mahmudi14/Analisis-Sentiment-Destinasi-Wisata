{
 "cells": [
  {
   "cell_type": "markdown",
   "id": "5443d097",
   "metadata": {},
   "source": [
    "Judul       : Analisis Sentimen Destinasi Wisata di Indonesia Berdasarkan Ulasan Wisatawan Mancanegara Menggunakan Algoritma Naive Bayes\n",
    "Sumber Data :IntrepidTravel.com"
   ]
  },
  {
   "cell_type": "code",
   "execution_count": null,
   "id": "cb7f8634",
   "metadata": {},
   "outputs": [
    {
     "name": "stdout",
     "output_type": "stream",
     "text": [
      "Komentar berhasil disimpan ke dataintrepidtravel.csv\n"
     ]
    }
   ],
   "source": [
    "import pandas as pd\n",
    "\n",
    "# Baca Data dari dataset\n",
    "df = pd.read_csv('dataset/intrepidtavel.csv', header=None, skiprows=1, quotechar='\"', encoding='utf-8')\n",
    "\n",
    "df_cleaned = df[df[3].notnull()]  # Hapus baris dengan komentar kosong\n",
    "df_cleaned = df_cleaned[[3]]      # Ambil hanya kolom komentar\n",
    "df_cleaned.columns = ['komen']    # Ganti nama kolom jadi 'komen'\n",
    "df_cleaned.insert(0, 'id', range(1, len(df_cleaned) + 1))  # Tambahkan kolom ID\n",
    "\n",
    "# Simpan ke file CSV baru\n",
    "df_cleaned.to_csv('dataset/dataintrepidtravel.csv', index=False, encoding='utf-8')\n",
    "\n",
    "print(\"Komentar berhasil disimpan ke dataintrepidtravel.csv\")\n"
   ]
  }
 ],
 "metadata": {
  "kernelspec": {
   "display_name": "Python 3",
   "language": "python",
   "name": "python3"
  },
  "language_info": {
   "codemirror_mode": {
    "name": "ipython",
    "version": 3
   },
   "file_extension": ".py",
   "mimetype": "text/x-python",
   "name": "python",
   "nbconvert_exporter": "python",
   "pygments_lexer": "ipython3",
   "version": "3.12.4"
  }
 },
 "nbformat": 4,
 "nbformat_minor": 5
}
