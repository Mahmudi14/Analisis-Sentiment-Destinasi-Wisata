{
 "cells": [
  {
   "cell_type": "markdown",
   "id": "5443d097",
   "metadata": {},
   "source": [
    "Judul       : Analisis Sentimen Destinasi Wisata di Indonesia Berdasarkan Ulasan Wisatawan Mancanegara Menggunakan Algoritma Naive Bayes\n",
    "Sumber Data :IntrepidTravel.com"
   ]
  },
  {
   "cell_type": "code",
   "execution_count": null,
   "id": "cb7f8634",
   "metadata": {},
   "outputs": [],
   "source": []
  }
 ],
 "metadata": {
  "kernelspec": {
   "display_name": "Python 3",
   "language": "python",
   "name": "python3"
  },
  "language_info": {
   "name": "python",
   "version": "3.12.4"
  }
 },
 "nbformat": 4,
 "nbformat_minor": 5
}
