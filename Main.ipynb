{
 "cells": [
  {
   "cell_type": "markdown",
   "id": "5443d097",
   "metadata": {},
   "source": [
    "##Analisis Sentimen Destinasi Wisata di Indonesia Berdasarkan Ulasan Wisatawan Mancanegara Menggunakan Algoritma **Naive Bayes**\n",
    "\n",
    "**Anggota Kelompok :** *[\"Mahmuddin\",\"Achmad Ali Akbar\",\"Baso Muchtar Fajar Alghifari\"]*\n",
    "**Sumber Data :** *IntrepidTravel.com*"
   ]
  },
  {
   "cell_type": "code",
   "execution_count": 1,
   "id": "cb7f8634",
   "metadata": {},
   "outputs": [
    {
     "name": "stdout",
     "output_type": "stream",
     "text": [
      "Komentar berhasil disimpan ke dataintrepidtravel.csv\n"
     ]
    }
   ],
   "source": [
    "import pandas as pd\n",
    "\n",
    "# Baca Data dari dataset\n",
    "df = pd.read_csv('dataset/intrepidtavel.csv', header=None, skiprows=1, quotechar='\"', encoding='utf-8')\n",
    "\n",
    "df_cleaned = df[df[3].notnull()]  # Hapus baris dengan komentar kosong\n",
    "df_cleaned = df_cleaned[[3]]      # Ambil hanya kolom komentar\n",
    "df_cleaned.columns = ['komen']    # Ganti nama kolom jadi 'komen'\n",
    "df_cleaned.insert(0, 'id', range(1, len(df_cleaned) + 1))  # Tambahkan kolom ID\n",
    "\n",
    "# Simpan ke file CSV baru\n",
    "df_cleaned.to_csv('dataset/dataintrepidtravel.csv', index=False, encoding='utf-8')\n",
    "\n",
    "print(\"Komentar berhasil disimpan ke dataintrepidtravel.csv\")\n"
   ]
  },
  {
   "cell_type": "code",
   "execution_count": 2,
   "id": "b4996a6c",
   "metadata": {},
   "outputs": [],
   "source": [
    "import pandas as pd\n",
    "import re\n",
    "import emoji\n",
    "import contractions\n",
    "import nltk\n",
    "from nltk.corpus import stopwords\n",
    "from nltk.tokenize import word_tokenize\n",
    "from nltk.stem import WordNetLemmatizer\n",
    "from nltk.corpus import wordnet\n",
    "from nltk import pos_tag, word_tokenize"
   ]
  },
  {
   "cell_type": "code",
   "execution_count": null,
   "id": "5a98be92",
   "metadata": {},
   "outputs": [
    {
     "name": "stdout",
     "output_type": "stream",
     "text": [
      "Cleaning selesai! File disimpan sebagai 'datacleanintrepidtravel.csv'\n"
     ]
    }
   ],
   "source": [
    "# Baca Data dari dataset\n",
    "data = pd.read_csv('dataset/dataintrepidtravel.csv', quotechar='\"', encoding='utf-8')\n",
    "def clean_text(text):\n",
    "    if pd.isnull(text):\n",
    "        return \"\"\n",
    "    text = emoji.replace_emoji(text, replace='')        # Hapus emoji\n",
    "    text = text.lower()                                 # Case folding\n",
    "    text = re.sub(r\"http\\S+|www.\\S+\", \"\", text)         # Hapus URL\n",
    "    text = re.sub(r\"\\d+\", \"\", text)                     # Hapus angka\n",
    "    text = re.sub(r\"[^\\w\\s]\", \"\", text)                 # Hapus tanda baca\n",
    "    text = re.sub(r\"[^a-z\\s]\", \"\", text)                # Hapus karakter non-alfabet\n",
    "    text = re.sub(r\"\\s+\", \" \", text).strip()            # Hapus spasi berlebih\n",
    "    return text\n",
    "\n",
    "# Fungsi normalisasi dengan contractions\n",
    "def normalize_text(text):\n",
    "    if pd.isnull(text):\n",
    "        return \"\"\n",
    "    return contractions.fix(text)\n",
    "\n",
    "# Fungsi tokenisasi\n",
    "def tokenize_text(text):\n",
    "    if pd.isnull(text):\n",
    "        return []\n",
    "    return word_tokenize(text)\n",
    "\n",
    "# Fungsi stopwords\n",
    "stop_words = set(stopwords.words('english'))\n",
    "def remove_stopwords(tokens):\n",
    "    return [word for word in tokens if word.lower() not in stop_words]\n",
    "\n",
    "# Fungsi konversi POS tag NLTK ke format WordNet\n",
    "def get_wordnet_pos(tag):\n",
    "    if tag.startswith('J'):\n",
    "        return wordnet.ADJ\n",
    "    elif tag.startswith('V'):\n",
    "        return wordnet.VERB\n",
    "    elif tag.startswith('N'):\n",
    "        return wordnet.NOUN\n",
    "    elif tag.startswith('R'):\n",
    "        return wordnet.ADV\n",
    "    else:\n",
    "        return wordnet.NOUN  # Default ke NOUN\n",
    "\n",
    "# Lemmatization dengan POS\n",
    "lemmatizer = WordNetLemmatizer()\n",
    "def lemmatize_tokens(tokens):\n",
    "    tagged_tokens = pos_tag(tokens)  # POS tagging\n",
    "    return [lemmatizer.lemmatize(word, get_wordnet_pos(pos)) for word, pos in tagged_tokens]\n",
    "\n",
    "\n",
    "data['komen'] = data['komen'].apply(clean_text)\n",
    "data[\"komen\"] = data[\"komen\"].apply(normalize_text)\n",
    "data['komen'] = data[\"komen\"].apply(tokenize_text)\n",
    "data[\"komen\"] = data[\"komen\"].apply(remove_stopwords)\n",
    "data['komen'] = data['komen'].apply(lemmatize_tokens)\n",
    "data['komen'] = data['komen'].apply(lambda x: ' '.join(x))\n",
    "\n",
    "\n",
    "# Simpan ke file baru\n",
    "data.to_csv('dataset/datacleanintrepidtravel.csv', index=False, encoding='utf-8')\n",
    "\n",
    "print(\"Cleaning selesai! File disimpan sebagai 'datacleanintrepidtravel.csv'\")\n"
   ]
  }
 ],
 "metadata": {
  "kernelspec": {
   "display_name": "Python 3",
   "language": "python",
   "name": "python3"
  },
  "language_info": {
   "codemirror_mode": {
    "name": "ipython",
    "version": 3
   },
   "file_extension": ".py",
   "mimetype": "text/x-python",
   "name": "python",
   "nbconvert_exporter": "python",
   "pygments_lexer": "ipython3",
   "version": "3.12.4"
  }
 },
 "nbformat": 4,
 "nbformat_minor": 5
}
